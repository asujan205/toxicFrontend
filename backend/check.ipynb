{
 "cells": [
  {
   "cell_type": "code",
   "execution_count": 2,
   "metadata": {},
   "outputs": [],
   "source": [
    "import pandas as pd\n",
    "import os\n",
    "\n",
    "# Read the dataset from a CSV file\n",
    "df = pd.read_csv(os.path.join('data', 'newromanized.csv'))\n",
    "\n",
    "# Specify the column name where commas need to be removed\n",
    "column_name = 'comment_text'\n",
    "columns_to_convert = ['toxic', 'obscene', 'threat', 'insult', 'identity_hate']\n",
    "# Remove commas from the specified column\n",
    "df[column_name] = df[column_name].str.replace(',', '').str.lower()\n",
    "# df[column_name] = df[column_name].apply(lambda x: x.astype(str).str.lower())\n",
    "df[columns_to_convert] = df[columns_to_convert].fillna(0).astype(int)\n",
    "\n",
    "# Save the modified dataset to a new CSV file\n",
    "df.to_csv('updated_dataset.csv', index=False)\n"
   ]
  }
 ],
 "metadata": {
  "kernelspec": {
   "display_name": "Python 3",
   "language": "python",
   "name": "python3"
  },
  "language_info": {
   "codemirror_mode": {
    "name": "ipython",
    "version": 3
   },
   "file_extension": ".py",
   "mimetype": "text/x-python",
   "name": "python",
   "nbconvert_exporter": "python",
   "pygments_lexer": "ipython3",
   "version": "3.10.1"
  },
  "orig_nbformat": 4
 },
 "nbformat": 4,
 "nbformat_minor": 2
}
